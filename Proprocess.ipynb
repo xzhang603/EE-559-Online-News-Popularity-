{
 "cells": [
  {
   "cell_type": "code",
   "execution_count": 1,
   "metadata": {},
   "outputs": [],
   "source": [
    "import numpy as np; from numpy import save; from numpy import load; from numpy import load\n",
    "import matplotlib.pyplot as plt\n",
    "import csv\n",
    "import math\n",
    "from scipy.spatial import distance\n",
    "from sklearn.preprocessing import StandardScaler\n",
    "from sklearn.linear_model import Perceptron\n",
    "from sklearn.metrics import accuracy_score\n",
    "from sklearn.linear_model import LinearRegression\n",
    "from sklearn.multiclass import OneVsRestClassifier"
   ]
  },
  {
   "cell_type": "code",
   "execution_count": 23,
   "metadata": {},
   "outputs": [],
   "source": [
    "def readData(new_file, ref):\n",
    "    with open(new_file,'r')as file:\n",
    "        read_file = csv.reader(file)\n",
    "        data = []\n",
    "\n",
    "        for ele in read_file:\n",
    "            data.append(ele)\n",
    "    ## ref=1 when we want to read feature data\n",
    "    ## ref=2 when we want to read label data\n",
    "    if ref==1:\n",
    "        feature_data = [] ; feature_label = []\n",
    "        for item in data[1:-1]:\n",
    "            feature_data.append(np.array([float(i) for i in item]))\n",
    "        feature_data = np.vstack(feature_data)\n",
    "        for item in data[0]:\n",
    "            feature_label.append(item)\n",
    "        feature_label = np.vstack(feature_label)\n",
    "        return feature_data, feature_label\n",
    "    \n",
    "    if ref==2:\n",
    "        label_data = []\n",
    "        for item in data[1:-1]:\n",
    "            label_data.append(np.array([float(i) for i in item]))\n",
    "        label_data = np.vstack(label_data)\n",
    "        return label_data \n",
    "\n",
    "def splitData(train_data):\n",
    "    feature_train = train_data[:,:-1]\n",
    "    label_train = train_data[:,-1]\n",
    "    return feature_train, label_train"
   ]
  },
  {
   "cell_type": "code",
   "execution_count": 19,
   "metadata": {},
   "outputs": [
    {
     "name": "stdout",
     "output_type": "stream",
     "text": [
      "59\n"
     ]
    }
   ],
   "source": [
    "tr_feature, tr_feature_label = readData('NEWS_Training_data.csv',1)\n",
    "tr_label = readData('NEWS_Training_label.csv',2)\n",
    "tr_data = np.concatenate((tr_feature,tr_label), axis=1)"
   ]
  },
  {
   "cell_type": "code",
   "execution_count": 4,
   "metadata": {},
   "outputs": [
    {
     "data": {
      "text/plain": [
       "[Text(0.5, 1.0, 'Frequency Histogram'), Text(0, 0.5, 'Frequency')]"
      ]
     },
     "execution_count": 4,
     "metadata": {},
     "output_type": "execute_result"
    },
    {
     "data": {
      "image/png": "[encoded data removed]",
      "text/plain": [
       "<Figure size 432x288 with 1 Axes>"
      ]
     },
     "metadata": {
      "needs_background": "light"
     },
     "output_type": "display_data"
    }
   ],
   "source": [
    "plt.hist(tr_label, bins=300)\n",
    "plt.gca().set(title='Frequency Histogram', ylabel='Frequency')"
   ]
  },
  {
   "cell_type": "code",
   "execution_count": 24,
   "metadata": {},
   "outputs": [],
   "source": [
    "tr_label_std = np.std(tr_label)\n",
    "tr_label_mean = np.mean(tr_label)\n",
    "filter_train_data = []\n",
    "\n",
    "for item in tr_data:\n",
    "    if item[-1] < tr_label_mean + 2*tr_label_std:\n",
    "        filter_train_data.append(item) \n",
    "        \n",
    "filter_train_data = np.vstack(filter_train_data)\n",
    "\n",
    "fil_tr_feature, fil_tr_label = splitData(filter_train_data)"
   ]
  },
  {
   "cell_type": "code",
   "execution_count": 25,
   "metadata": {},
   "outputs": [
    {
     "data": {
      "text/plain": [
       "[Text(0.5, 1.0, 'Frequency Histogram'), Text(0, 0.5, 'Frequency')]"
      ]
     },
     "execution_count": 25,
     "metadata": {},
     "output_type": "execute_result"
    },
    {
     "data": {
      "image/png": "[encoded data removed]",
      "text/plain": [
       "<Figure size 432x288 with 1 Axes>"
      ]
     },
     "metadata": {
      "needs_background": "light"
     },
     "output_type": "display_data"
    }
   ],
   "source": [
    "plt.hist(fil_tr_label, bins=100)\n",
    "plt.gca().set(title='Frequency Histogram', ylabel='Frequency')"
   ]
  },
  {
   "cell_type": "code",
   "execution_count": null,
   "metadata": {},
   "outputs": [],
   "source": []
  }
 ],
 "metadata": {
  "kernelspec": {
   "display_name": "Python 3",
   "language": "python",
   "name": "python3"
  },
  "language_info": {
   "codemirror_mode": {
    "name": "ipython",
    "version": 3
   },
   "file_extension": ".py",
   "mimetype": "text/x-python",
   "name": "python",
   "nbconvert_exporter": "python",
   "pygments_lexer": "ipython3",
   "version": "3.8.5"
  }
 },
 "nbformat": 4,
 "nbformat_minor": 4
}
